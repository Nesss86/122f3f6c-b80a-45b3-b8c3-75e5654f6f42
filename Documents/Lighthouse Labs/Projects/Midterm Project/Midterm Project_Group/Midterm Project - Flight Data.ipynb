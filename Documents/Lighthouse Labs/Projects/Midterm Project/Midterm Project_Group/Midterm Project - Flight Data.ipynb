{
 "cells": [
  {
   "cell_type": "code",
   "execution_count": 1,
   "id": "fa81f939-30e7-4604-9903-608c9762dff6",
   "metadata": {},
   "outputs": [],
   "source": [
    "import pandas as pd\n",
    "from sklearn.model_selection import train_test_split\n",
    "from sklearn.preprocessing import LabelEncoder\n",
    "from sklearn.ensemble import RandomForestClassifier\n",
    "from sklearn.metrics import accuracy_score, classification_report, confusion_matrix"
   ]
  },
  {
   "cell_type": "code",
   "execution_count": 3,
   "id": "26b94837-9a99-4ebc-8d8b-37e2df5317fa",
   "metadata": {},
   "outputs": [
    {
     "name": "stderr",
     "output_type": "stream",
     "text": [
      "/var/folders/px/kvh7hvv10l91f3w9qbs6h3x00000gn/T/ipykernel_73325/390516568.py:2: DtypeWarning: Columns (7,8) have mixed types. Specify dtype option on import or set low_memory=False.\n",
      "  df = pd.read_csv(\"flights.csv\")\n"
     ]
    },
    {
     "name": "stdout",
     "output_type": "stream",
     "text": [
      "   YEAR  MONTH  DAY  DAY_OF_WEEK AIRLINE  FLIGHT_NUMBER TAIL_NUMBER  \\\n",
      "0  2015      1    1            4      AS             98      N407AS   \n",
      "1  2015      1    1            4      AA           2336      N3KUAA   \n",
      "2  2015      1    1            4      US            840      N171US   \n",
      "3  2015      1    1            4      AA            258      N3HYAA   \n",
      "4  2015      1    1            4      AS            135      N527AS   \n",
      "\n",
      "  ORIGIN_AIRPORT DESTINATION_AIRPORT  SCHEDULED_DEPARTURE  ...  ARRIVAL_TIME  \\\n",
      "0            ANC                 SEA                    5  ...         408.0   \n",
      "1            LAX                 PBI                   10  ...         741.0   \n",
      "2            SFO                 CLT                   20  ...         811.0   \n",
      "3            LAX                 MIA                   20  ...         756.0   \n",
      "4            SEA                 ANC                   25  ...         259.0   \n",
      "\n",
      "   ARRIVAL_DELAY  DIVERTED  CANCELLED  CANCELLATION_REASON  AIR_SYSTEM_DELAY  \\\n",
      "0          -22.0         0          0                  NaN               NaN   \n",
      "1           -9.0         0          0                  NaN               NaN   \n",
      "2            5.0         0          0                  NaN               NaN   \n",
      "3           -9.0         0          0                  NaN               NaN   \n",
      "4          -21.0         0          0                  NaN               NaN   \n",
      "\n",
      "   SECURITY_DELAY  AIRLINE_DELAY  LATE_AIRCRAFT_DELAY  WEATHER_DELAY  \n",
      "0             NaN            NaN                  NaN            NaN  \n",
      "1             NaN            NaN                  NaN            NaN  \n",
      "2             NaN            NaN                  NaN            NaN  \n",
      "3             NaN            NaN                  NaN            NaN  \n",
      "4             NaN            NaN                  NaN            NaN  \n",
      "\n",
      "[5 rows x 31 columns]\n"
     ]
    }
   ],
   "source": [
    "# Load the dataset\n",
    "df = pd.read_csv(\"flights.csv\")\n",
    "\n",
    "# Explore the data\n",
    "print(df.head())"
   ]
  },
  {
   "cell_type": "code",
   "execution_count": 4,
   "id": "f0e6b79f-17d9-4ddb-9104-aea1c96946f4",
   "metadata": {},
   "outputs": [
    {
     "name": "stdout",
     "output_type": "stream",
     "text": [
      "['ANC' 'LAX' 'SFO' 'SEA' 'LAS' 'DEN' 'SLC' 'PDX' 'FAI' 'MSP' 'PHX' 'SJU'\n",
      " 'PBG' 'IAG' 'PSE' 'BQN' 'ORD' 'GEG' 'HNL' 'ONT' 'MCO' 'BOS' 'HIB' 'ABR'\n",
      " 'MAF' 'DFW' 'MKE' 'IAH' 'BNA' 'BRO' 'VPS' 'BOI' 'BJI' 'SGF' 'PHL' 'SBN'\n",
      " 'RDD' 'EUG' 'IAD' 'BUF' 'PWM' 'JFK' 'CRP' 'PIA' 'FAT' 'SMF' 'AUS' 'MCI'\n",
      " 'ATL' 'JAX' 'MFR' 'IDA' 'MSN' 'DCA' 'SAT' 'CHS' 'SBA' 'SMX' 'IND' 'CLE'\n",
      " 'GSP' 'BDL' 'ABI' 'RIC' 'BFL' 'OMA' 'RDM' 'FLL' 'CID' 'TPA' 'SYR' 'ROC'\n",
      " 'TYR' 'LAN' 'XNA' 'GSO' 'EWR' 'PBI' 'RSW' 'OAK' 'PVD' 'RNO' 'PIT' 'ABQ'\n",
      " 'MIA' 'BWI' 'LGA' 'TUL' 'LIT' 'MSY' 'OKC' 'ATW' 'PNS' 'MEM' 'TYS' 'MHT'\n",
      " 'SAV' 'CLT' 'GRB' 'ABE' 'JAN' 'OAJ' 'FAR' 'ERI' 'LEX' 'CWA' 'MSO' 'TTN'\n",
      " 'AMA' 'CLL' 'HOU' 'JLN' 'MLI' 'RDU' 'CVG' 'MHK' 'MOB' 'TLH' 'BHM' 'CAE'\n",
      " 'TXK' 'ACY' 'DTW' 'RAP' 'TUS' 'EAU' 'DLH' 'FSD' 'INL' 'CMX' 'SPI' 'CLD'\n",
      " 'COD' 'CMH' 'LRD' 'PSC' 'CPR' 'ACV' 'DAL' 'PAH' 'MRY' 'ESC' 'ISN' 'PSP'\n",
      " 'MFE' 'STL' 'BTV' 'FSM' 'AEX' 'SPS' 'ACT' 'SJT' 'MTJ' 'GCC' 'OGG' 'SJC'\n",
      " 'GUC' 'ORF' 'MOT' 'MLU' 'KOA' 'SAN' 'LAW' 'PIB' 'MGM' 'SBP' 'COS' 'LAR'\n",
      " 'DRO' 'BIS' 'ITO' 'BTR' 'GRI' 'HLN' 'BZN' 'MDW' 'MDT' 'SCE' 'LIH' 'TWF'\n",
      " 'BPT' 'GPT' 'STC' 'HPN' 'MLB' 'PLN' 'CIU' 'CAK' 'DSM' 'BLI' 'SHV' 'ROW'\n",
      " 'FWA' 'SNA' 'ALB' 'HOB' 'LNK' 'CMI' 'COU' 'GTF' 'EKO' 'LGB' 'AVL' 'HSV'\n",
      " 'SAF' 'GRR' 'SUX' 'LFT' 'HYS' 'ELP' 'DVL' 'ISP' 'BUR' 'DAB' 'DAY' 'GRK'\n",
      " 'GJT' 'BMI' 'LBE' 'ASE' 'RKS' 'GUM' 'TVC' 'ALO' 'IMT' 'LCH' 'JNU' 'JAC'\n",
      " 'MEI' 'DBQ' 'GCK' 'GNV' 'BRD' 'DIK' 'SDF' 'LBB' 'AVP' 'BTM' 'ELM' 'PIH'\n",
      " 'ICT' 'SUN' 'LWS' 'VEL' 'STT' 'YUM' 'FLG' 'FCA' 'HDN' 'JMS' 'ROA' 'CHA'\n",
      " 'EYW' 'MYR' 'CRW' 'MQT' 'CHO' 'ECP' 'EVV' 'EGE' 'MBS' 'GFK' 'TOL' 'BIL'\n",
      " 'OTZ' 'KTN' 'STX' 'ILM' 'PUB' 'RHI' 'CDC' 'HRL' 'SCC' 'FNT' 'LSE' 'MMH'\n",
      " 'APN' 'AGS' 'CEC' 'DHN' 'WRG' 'PHF' 'CNY' 'BRW' 'GGG' 'AZO' 'SRQ' 'ORH'\n",
      " 'TRI' 'VLD' 'SIT' 'BQK' 'PSG' 'FAY' 'MKG' 'CSG' 'EWN' 'OME' 'SGU' 'RST'\n",
      " 'GTR' 'BET' 'ABY' 'SWF' 'ILG' 'ADK' 'UST' 'YAK' 'CDV' 'OTH' 'ADQ' 'PPG'\n",
      " 'BGM' 'BGR' 'ITH' 'ACK' 'MVY' 'WYS' 'DLG' 'AKN' 'GST' 'HYA' '14747'\n",
      " '14771' '12889' '12892' '14869' '10299' '11292' '14107' '11630' '10732'\n",
      " '14254' '10141' '10627' '11982' '12173' '13930' '14683' '12266' '11618'\n",
      " '10721' '13487' '11884' '15919' '13851' '11111' '10693' '12191' '14783'\n",
      " '15016' '14487' '10423' '15370' '11953' '13891' '15376' '11778' '11278'\n",
      " '14100' '13204' '15304' '11637' '14842' '10155' '11775' '11298' '11057'\n",
      " '13931' '10821' '14122' '11049' '10990' '10631' '13158' '14108' '13198'\n",
      " '11447' '12206' '13495' '14057' '15624' '10747' '15411' '12891' '10994'\n",
      " '13256' '10792' '14492' '12451' '13127' '10781' '14960' '12278' '14685'\n",
      " '11995' '13485' '11977' '10257' '13796' '13232' '13296' '14570' '14893'\n",
      " '14524' '12217' '10713' '10208' '10136' '11603' '14689' '11471' '11315'\n",
      " '13264' '12478' '14814' '11308' '11066' '12896' '10397' '14307' '11721'\n",
      " '11140' '10185' '13277' '11203' '13342' '11433' '11697' '12953' '10599'\n",
      " '12156' '14952' '10620' '11042' '15096' '10408' '15249' '11423' '12915'\n",
      " '12264' '12339' '10140' '13871' '14027' '13244' '11267' '11540' '14576'\n",
      " '10868' '13486' '13476' '14489' '12945' '15607' '10529' '11986' '14635'\n",
      " '13303' '10785' '15380' '11996' '10561' '10874' '13367' '10146' '10431'\n",
      " '11973' '10980' '12197' '14098' '12323' '10577' '11150' '10135' '11617'\n",
      " '13795' '13029' '11003' '11146' '11577' '15356' '11259' '10279' '14321'\n",
      " '14843' '11638' '14828' '11481' '12951' '10434' '12448' '14730' '15323'\n",
      " '14252' '11193' '10849' '14193' '14986' '11641' '12992' '13422' '11612'\n",
      " '11823' '11980' '13290' '10158' '10685' '13377' '11109' '11076' '11122'\n",
      " '11865' '14543' '14905' '11587' '14457' '12335' '12343' '12003' '10157'\n",
      " '12884' '14633' '15048' '10268' '15295' '12389' '11525' '14262' '12888'\n",
      " '12391' '11648' '14696' '12758' '13830' '10469' '15412' '10731' '14679'\n",
      " '14831' '11413' '13433' '12982' '11867' '14698' '11537' '15389' '12402'\n",
      " '11337' '13360' '13076' '14006' '10728' '15401' '13230' '12016' '11067'\n",
      " '11274' '11921' '12519' '11013' '10779' '14150' '14794' '12511' '12177'\n",
      " '12523' '14908' '12007' '14588' '13577' '13061' '15041' '14109' '10800'\n",
      " '12954' '12441' '12898' '11695' '16218' '14113' '11624' '11503' '10739'\n",
      " '14574' '14711' '12129' '15070' '14520' '13184' '11252' '12280' '13241'\n",
      " '11898' '15024' '14674' '10551' '12819' '13459' '10581' '13970' '10372'\n",
      " '10918' '14709' '12255' 11267 12266 10821 14771 11433 11982 11905 15411\n",
      " 14679 14108 10397 13871 11618 14574 10423 11259 10800 11140 12191 12889\n",
      " 13198 10529 10693 13232 11540 14570 14635 14831 11298 13204 11278 14100\n",
      " 12892 12478 13930 15304 14107 12523 12954 11697 14057 12339 13487 14893\n",
      " 11986 11292 14576 15370 12402 14908 12953 12758 15016 10721 12264 10685\n",
      " 11612 13277 11057 12891 12197 11193 13495 13891 13244 14843 14747 11996\n",
      " 10333 14262 11695 13342 14698 10431 15376 12451 14524 13830 13796 14122\n",
      " 14960 16218 10713 11066 10208 14683 14869 14492 11638 11413 10792 10408\n",
      " 14689 10980 14952 12951 15323 11884 14307 14730 14783 11603 11977 11921\n",
      " 13577 13061 13851 11042 12448 12992 10874 12896 11308 12173 12206 13377\n",
      " 10747 13256 13303 10185 10599 10140 15295 11898 13795 10728 10994 12391\n",
      " 10299 12217 13290 12007 11109 15096 10627 13433 15249 12278 12915 11637\n",
      " 13931 13485 11721 11775 13476 15841 14027 15380 12945 11315 15919 13360\n",
      " 10868 14986 12982 10279 11150 13264 14193 11823 13367 10469 11423 11337\n",
      " 11252 13029 14696 11049 13296 14685 13158 12323 10257 14588 11274 13344\n",
      " 13933 15412 13422 11146 15991 13230 14794 11003 14828 10781 10990 10785\n",
      " 10434 14457 11481 11537 10136 14814 10754 10135 10731 13127 14321 10849\n",
      " 14098 10146 15607 11624 12177 10158 12884 15624 14256 11973 14842 15356\n",
      " 10561 14113 15389 14489 12094 12888 13076 12129 13873 10157 11995 10631\n",
      " 12441 12343 14252 11097 10732 10154 11122 11641 13486 12003 10620 10779\n",
      " 12335 11076 15041 12156 12280 10926 12819 11865 12519 11778 10551 12389\n",
      " 11953 12898 15024 10155 11013 10372 11587 13964 11980 11630 11648 14905\n",
      " 11525 15070 11471 11111 14633 11447 11203 13241 12511 11067 10268 13184\n",
      " 10141 13541 14150 15027 14109 15048 14006 10739 14520 11617 14487 11867\n",
      " 14674 14543 10577 10170 11577 14709 14711 12255 10165 10918 15401 13970\n",
      " 15497 12265 14254 10581 12016 11503 13459 14222 14025 13502 '15841'\n",
      " '13344' '15991' '10754' '14256' '13873' '11097' '10926' '13964' '11905'\n",
      " '15027' '13933' '10170' '10333' '14222' '14025' '13502' '15497' '12265']\n",
      "['SEA' 'PBI' 'CLT' 'MIA' 'ANC' 'MSP' 'DFW' 'ATL' 'IAH' 'PDX' 'MCI' 'FLL'\n",
      " 'ORD' 'HNL' 'PHX' 'EWR' 'JFK' 'MCO' 'BOS' 'BDL' 'ITO' 'SFO' 'KOA' 'OGG'\n",
      " 'MYR' 'DTW' 'LIH' 'DEN' 'SJU' 'LAX' 'BWI' 'IAD' 'BQN' 'BUF' 'LGA' 'HOU'\n",
      " 'SLC' 'PHL' 'SJC' 'OAK' 'LGB' 'TPA' 'DCA' 'TTN' 'BTR' 'LAS' 'RSW' 'BRD'\n",
      " 'STL' 'RKS' 'MBS' 'SNA' 'MEI' 'MDW' 'SAN' 'RIC' 'AUS' 'OTZ' 'PIT' 'JAX'\n",
      " 'MSY' 'ONT' 'PSP' 'BUR' 'DAL' 'CVG' 'SMF' 'RDU' 'JMS' 'BNA' 'DSM' 'MAF'\n",
      " 'BOI' 'ELP' 'TUS' 'SCC' 'HPN' 'STT' 'MDT' 'RHI' 'SBP' 'MKE' 'JNU' 'CMH'\n",
      " 'CLD' 'KTN' 'CAK' 'CRP' 'CLE' 'GPT' 'SHV' 'TYS' 'IND' 'LIT' 'SAT' 'SRQ'\n",
      " 'TUL' 'GRK' 'PNS' 'BTV' 'CHS' 'DAY' 'OKC' 'SAV' 'XNA' 'COS' 'GJT' 'BZN'\n",
      " 'PUB' 'HRL' 'HDN' 'MEM' 'GEG' 'ORH' 'SYR' 'GSO' 'VPS' 'LAW' 'ACY' 'LBB'\n",
      " 'JAC' 'BIL' 'EUG' 'ASE' 'TVC' 'MTJ' 'CAE' 'PVD' 'HSV' 'CDC' 'YUM' 'ABQ'\n",
      " 'TLH' 'MLI' 'AMA' 'EGE' 'MOB' 'JAN' 'FWA' 'MSN' 'BIS' 'MFR' 'APN' 'BHM'\n",
      " 'OMA' 'LFT' 'GRR' 'MMH' 'CEC' 'SBA' 'RNO' 'CLL' 'LEX' 'LAN' 'DLH' 'SDF'\n",
      " 'FAT' 'SPS' 'SGF' 'CID' 'FSM' 'MGM' 'MFE' 'AVP' 'SJT' 'ROA' 'LRD' 'MRY'\n",
      " 'AGS' 'ROC' 'AEX' 'ISN' 'MLB' 'ORF' 'ICT' 'ECP' 'PIA' 'BPT' 'ACT' 'EYW'\n",
      " 'FSD' 'MLU' 'CHA' 'WRG' 'FNT' 'DIK' 'MHK' 'CNY' 'BRW' 'GRB' 'ATW' 'SAF'\n",
      " 'TYR' 'MKG' 'FLG' 'FCA' 'BTM' 'EVV' 'DRO' 'LNK' 'DBQ' 'FAR' 'OME' 'GSP'\n",
      " 'GUC' 'MSO' 'TXK' 'MOT' 'RAP' 'ISP' 'PWM' 'GGG' 'SBN' 'BFL' 'MHT' 'ROW'\n",
      " 'SIT' 'CMX' 'FAY' 'ILM' 'CMI' 'ALB' 'ABI' 'GTF' 'BMI' 'COU' 'HOB' 'GNV'\n",
      " 'SUN' 'SPI' 'PSG' 'BRO' 'AVL' 'TOL' 'SGU' 'GCC' 'HLN' 'CPR' 'PIH' 'BET'\n",
      " 'VEL' 'RDM' 'HYS' 'PSC' 'COD' 'INL' 'FAI' 'EKO' 'BJI' 'IDA' 'IMT' 'RST'\n",
      " 'HIB' 'ABR' 'STC' 'ACV' 'ESC' 'CIU' 'SWF' 'DAB' 'TRI' 'AZO' 'CRW' 'STX'\n",
      " 'GRI' 'CHO' 'GCK' 'PLN' 'LSE' 'SMX' 'RDD' 'PHF' 'LCH' 'GTR' 'LAR' 'ERI'\n",
      " 'PAH' 'EAU' 'LBE' 'BLI' 'DVL' 'CWA' 'ILG' 'OAJ' 'ABE' 'ALO' 'ABY' 'DHN'\n",
      " 'TWF' 'ADK' 'ELM' 'VLD' 'PIB' 'SUX' 'GUM' 'SCE' 'UST' 'BQK' 'JLN' 'LWS'\n",
      " 'MQT' 'EWN' 'CSG' 'PBG' 'PSE' 'IAG' 'YAK' 'CDV' 'OTH' 'ADQ' 'PPG' 'GFK'\n",
      " 'BGM' 'BGR' 'ITH' 'ACK' 'MVY' 'WYS' 'DLG' 'AKN' 'GST' 'HYA' '11298'\n",
      " '13487' '13303' '11057' '13930' '10693' '14747' '12266' '12478' '14057'\n",
      " '10397' '13198' '12173' '11618' '13204' '12402' '12758' '14771' '11292'\n",
      " '13830' '14107' '12982' '11697' '12519' '13577' '14869' '12339' '13232'\n",
      " '11259' '15016' '12892' '12889' '10140' '10721' '15304' '14679' '14100'\n",
      " '10732' '10821' '14831' '14843' '14570' '12191' '11433' '12264' '14893'\n",
      " '13796' '12953' '14122' '13495' '12451' '11042' '11278' '14908' '13342'\n",
      " '13891' '10299' '12523' '12954' '14520' '12129' '10713' '10431' '11066'\n",
      " '10994' '10423' '10792' '14683' '10800' '10551' '11193' '14307' '11540'\n",
      " '14635' '13851' '15376' '11884' '14492' '14027' '13970' '13184' '13296'\n",
      " '10599' '11986' '14698' '11423' '13244' '14574' '12992' '13241' '12217'\n",
      " '13871' '12197' '11003' '15919' '14524' '14689' '10529' '14576' '11995'\n",
      " '11267' '12819' '14633' '11996' '13256' '13158' '12448' '10781' '13422'\n",
      " '16218' '15370' '10868' '14730' '13931' '13485' '14986' '15024' '11823'\n",
      " '11721' '14685' '10257' '12206' '12255' '12951' '14709' '14321' '12391'\n",
      " '14794' '10874' '12278' '11638' '10372' '11122' '14457' '15096' '12896'\n",
      " '11109' '10279' '11481' '15412' '14814' '11641' '10980' '12945' '10990'\n",
      " '10157' '13076' '13230' '15295' '10918' '13933' '11953' '10135' '14262'\n",
      " '11067' '13277' '11603' '10561' '11612' '15624' '11977' '15380' '13367'\n",
      " '14193' '10333' '11778' '11140' '14783' '10136' '14842' '11049' '14696'\n",
      " '11695' '11637' '15401' '14674' '13061' '10685' '11982' '10469' '11921'\n",
      " '14108' '11413' '12891' '11905' '14960' '15411' '10155' '10747' '10728'\n",
      " '13290' '13433' '10208' '11973' '15323' '10849' '13360' '13795' '14952'\n",
      " '13377' '10408' '10627' '13344' '13476' '11775' '10158' '11898' '13029'\n",
      " '15249' '11337' '12915' '15356' '13264' '11252' '10185' '11624' '12323'\n",
      " '15841' '10785' '11146' '14098' '10434' '12389' '15991' '11315' '11150'\n",
      " '12884' '11537' '11274' '11076' '10754' '13873' 13930 10599 11697 12266\n",
      " 14492 11298 14869 14683 11278 15016 13244 11433 12951 13931 11259 10423\n",
      " 14893 11721 12191 14107 14122 14679 13796 11292 13232 12339 14771 14908\n",
      " 13204 11540 13303 12889 13487 12953 10721 13198 11057 14100 15304 14828\n",
      " 12982 14057 10136 11193 11042 12173 11618 15412 13495 15370 10397 14814\n",
      " 11308 10685 11982 14747 14831 13851 12892 13296 11638 14321 11884 12992\n",
      " 14027 15919 12007 13830 10731 14685 12884 10135 11996 12478 12217 13485\n",
      " 11973 10792 14730 10800 11986 11481 10821 10140 10299 14842 10980 12197\n",
      " 10990 12945 10781 11995 10257 13891 13158 12264 12758 10279 14588 10185\n",
      " 13377 14524 10693 12206 15376 12451 11066 11603 14689 11003 11267 15607\n",
      " 10994 14635 13342 14576 15096 14986 12278 12448 10146 14262 10713 14307\n",
      " 15024 10157 13422 10874 14570 14843 15070 14193 13486 12003 13127 13264\n",
      " 12177 12441 12523 14794 12094 12156 14113 12280 11641 14489 10849 12896\n",
      " 14256 10561 12954 10620 11097 10779 11122 10631 12888 15389 15041 14252\n",
      " 12343 12129 11648 10154 13577 14457 13076 12898 13029 12389 13871 10529\n",
      " 12402 11637 13256 12335 11865 11775 10551 15249 10747 15624 12391 10208\n",
      " 10926 12819 11423 13367 14952 13277 11980 11977 11778 15411 13964 11953\n",
      " 11630 11049 11013 11587 15380 11823 11252 11111 14698 11624 13795 12915\n",
      " 14108 11695 11612 10627 13360 15027 10469 14696 14574 15323 11203 14633\n",
      " 11337 13241 14098 10408 10155 11146 13061 14905 13433 11471 14783 10785\n",
      " 11140 12511 12323 10868 14960 10431 10268 11447 11067 13290 15048 13541\n",
      " 13476 16218 11150 12891 11921 10141 14150 14006 13184 11537 10434 13230\n",
      " 11617 11525 11898 11109 11867 14711 11577 12016 14520 14487 10739 14109\n",
      " 10165 11413 10158 15356 14709 12255 14543 11274 15841 10577 14674 10170\n",
      " 10333 10728 13970 15295 15401 15991 11905 10918 15497 10754 13344 11503\n",
      " 13459 13873 11315 12519 11076 10581 12265 14254 10732 10372 13933 14222\n",
      " 14025 13502 '10146' '13486' '12003' '13127' '12441' '12177' '12156'\n",
      " '14113' '14256' '14489' '10620' '11097' '10779' '10631' '12888' '15389'\n",
      " '15041' '14252' '12343' '12898' '11648' '12280' '12335' '11865' '10731'\n",
      " '10926' '11980' '11630' '11013' '11587' '11111' '13964' '15027' '11203'\n",
      " '15070' '14150' '11471' '14905' '12511' '10268' '15048' '11447' '11577'\n",
      " '10141' '11308' '11617' '11525' '11867' '12016' '10739' '14711' '14006'\n",
      " '14109' '14487' '15607' '14543' '14588' '10577' '10170' '12007' '14828'\n",
      " '14222' '13459' '13502' '14254' '14025' '15497' '12265' '10581' '10666']\n"
     ]
    }
   ],
   "source": [
    "print(df[\"ORIGIN_AIRPORT\"].unique())\n",
    "print(df[\"DESTINATION_AIRPORT\"].unique())"
   ]
  },
  {
   "cell_type": "code",
   "execution_count": 5,
   "id": "d04427b5-87c7-4da3-974b-5cf65e47dc86",
   "metadata": {},
   "outputs": [
    {
     "name": "stderr",
     "output_type": "stream",
     "text": [
      "/Users/vanessalittle/anaconda3/lib/python3.11/site-packages/sklearn/utils/validation.py:605: FutureWarning: is_sparse is deprecated and will be removed in a future version. Check `isinstance(dtype, pd.SparseDtype)` instead.\n",
      "  if is_sparse(pd_dtype):\n",
      "/Users/vanessalittle/anaconda3/lib/python3.11/site-packages/sklearn/utils/validation.py:614: FutureWarning: is_sparse is deprecated and will be removed in a future version. Check `isinstance(dtype, pd.SparseDtype)` instead.\n",
      "  if is_sparse(pd_dtype) or not is_extension_array_dtype(pd_dtype):\n",
      "/Users/vanessalittle/anaconda3/lib/python3.11/site-packages/sklearn/utils/validation.py:605: FutureWarning: is_sparse is deprecated and will be removed in a future version. Check `isinstance(dtype, pd.SparseDtype)` instead.\n",
      "  if is_sparse(pd_dtype):\n",
      "/Users/vanessalittle/anaconda3/lib/python3.11/site-packages/sklearn/utils/validation.py:614: FutureWarning: is_sparse is deprecated and will be removed in a future version. Check `isinstance(dtype, pd.SparseDtype)` instead.\n",
      "  if is_sparse(pd_dtype) or not is_extension_array_dtype(pd_dtype):\n"
     ]
    },
    {
     "ename": "TypeError",
     "evalue": "Encoders require their input to be uniformly strings or numbers. Got ['int', 'str']",
     "output_type": "error",
     "traceback": [
      "\u001b[0;31m---------------------------------------------------------------------------\u001b[0m",
      "\u001b[0;31mTypeError\u001b[0m                                 Traceback (most recent call last)",
      "File \u001b[0;32m~/anaconda3/lib/python3.11/site-packages/sklearn/utils/_encode.py:173\u001b[0m, in \u001b[0;36m_unique_python\u001b[0;34m(values, return_inverse, return_counts)\u001b[0m\n\u001b[1;32m    171\u001b[0m uniques_set, missing_values \u001b[38;5;241m=\u001b[39m _extract_missing(uniques_set)\n\u001b[0;32m--> 173\u001b[0m uniques \u001b[38;5;241m=\u001b[39m \u001b[38;5;28msorted\u001b[39m(uniques_set)\n\u001b[1;32m    174\u001b[0m uniques\u001b[38;5;241m.\u001b[39mextend(missing_values\u001b[38;5;241m.\u001b[39mto_list())\n",
      "\u001b[0;31mTypeError\u001b[0m: '<' not supported between instances of 'int' and 'str'",
      "\nDuring handling of the above exception, another exception occurred:\n",
      "\u001b[0;31mTypeError\u001b[0m                                 Traceback (most recent call last)",
      "Cell \u001b[0;32mIn[5], line 10\u001b[0m\n\u001b[1;32m      8\u001b[0m label_encoder \u001b[38;5;241m=\u001b[39m LabelEncoder()\n\u001b[1;32m      9\u001b[0m df[\u001b[38;5;124m\"\u001b[39m\u001b[38;5;124mAIRLINE\u001b[39m\u001b[38;5;124m\"\u001b[39m] \u001b[38;5;241m=\u001b[39m label_encoder\u001b[38;5;241m.\u001b[39mfit_transform(df[\u001b[38;5;124m\"\u001b[39m\u001b[38;5;124mAIRLINE\u001b[39m\u001b[38;5;124m\"\u001b[39m])\n\u001b[0;32m---> 10\u001b[0m df[\u001b[38;5;124m\"\u001b[39m\u001b[38;5;124mORIGIN_AIRPORT\u001b[39m\u001b[38;5;124m\"\u001b[39m] \u001b[38;5;241m=\u001b[39m label_encoder\u001b[38;5;241m.\u001b[39mfit_transform(df[\u001b[38;5;124m\"\u001b[39m\u001b[38;5;124mORIGIN_AIRPORT\u001b[39m\u001b[38;5;124m\"\u001b[39m])\n\u001b[1;32m     11\u001b[0m df[\u001b[38;5;124m\"\u001b[39m\u001b[38;5;124mDESTINATION_AIRPORT\u001b[39m\u001b[38;5;124m\"\u001b[39m] \u001b[38;5;241m=\u001b[39m label_encoder\u001b[38;5;241m.\u001b[39mfit_transform(df[\u001b[38;5;124m\"\u001b[39m\u001b[38;5;124mDESTINATION_AIRPORT\u001b[39m\u001b[38;5;124m\"\u001b[39m])\n",
      "File \u001b[0;32m~/anaconda3/lib/python3.11/site-packages/sklearn/utils/_set_output.py:140\u001b[0m, in \u001b[0;36m_wrap_method_output.<locals>.wrapped\u001b[0;34m(self, X, *args, **kwargs)\u001b[0m\n\u001b[1;32m    138\u001b[0m \u001b[38;5;129m@wraps\u001b[39m(f)\n\u001b[1;32m    139\u001b[0m \u001b[38;5;28;01mdef\u001b[39;00m \u001b[38;5;21mwrapped\u001b[39m(\u001b[38;5;28mself\u001b[39m, X, \u001b[38;5;241m*\u001b[39margs, \u001b[38;5;241m*\u001b[39m\u001b[38;5;241m*\u001b[39mkwargs):\n\u001b[0;32m--> 140\u001b[0m     data_to_wrap \u001b[38;5;241m=\u001b[39m f(\u001b[38;5;28mself\u001b[39m, X, \u001b[38;5;241m*\u001b[39margs, \u001b[38;5;241m*\u001b[39m\u001b[38;5;241m*\u001b[39mkwargs)\n\u001b[1;32m    141\u001b[0m     \u001b[38;5;28;01mif\u001b[39;00m \u001b[38;5;28misinstance\u001b[39m(data_to_wrap, \u001b[38;5;28mtuple\u001b[39m):\n\u001b[1;32m    142\u001b[0m         \u001b[38;5;66;03m# only wrap the first output for cross decomposition\u001b[39;00m\n\u001b[1;32m    143\u001b[0m         \u001b[38;5;28;01mreturn\u001b[39;00m (\n\u001b[1;32m    144\u001b[0m             _wrap_data_with_container(method, data_to_wrap[\u001b[38;5;241m0\u001b[39m], X, \u001b[38;5;28mself\u001b[39m),\n\u001b[1;32m    145\u001b[0m             \u001b[38;5;241m*\u001b[39mdata_to_wrap[\u001b[38;5;241m1\u001b[39m:],\n\u001b[1;32m    146\u001b[0m         )\n",
      "File \u001b[0;32m~/anaconda3/lib/python3.11/site-packages/sklearn/preprocessing/_label.py:117\u001b[0m, in \u001b[0;36mLabelEncoder.fit_transform\u001b[0;34m(self, y)\u001b[0m\n\u001b[1;32m    104\u001b[0m \u001b[38;5;250m\u001b[39m\u001b[38;5;124;03m\"\"\"Fit label encoder and return encoded labels.\u001b[39;00m\n\u001b[1;32m    105\u001b[0m \n\u001b[1;32m    106\u001b[0m \u001b[38;5;124;03mParameters\u001b[39;00m\n\u001b[0;32m   (...)\u001b[0m\n\u001b[1;32m    114\u001b[0m \u001b[38;5;124;03m    Encoded labels.\u001b[39;00m\n\u001b[1;32m    115\u001b[0m \u001b[38;5;124;03m\"\"\"\u001b[39;00m\n\u001b[1;32m    116\u001b[0m y \u001b[38;5;241m=\u001b[39m column_or_1d(y, warn\u001b[38;5;241m=\u001b[39m\u001b[38;5;28;01mTrue\u001b[39;00m)\n\u001b[0;32m--> 117\u001b[0m \u001b[38;5;28mself\u001b[39m\u001b[38;5;241m.\u001b[39mclasses_, y \u001b[38;5;241m=\u001b[39m _unique(y, return_inverse\u001b[38;5;241m=\u001b[39m\u001b[38;5;28;01mTrue\u001b[39;00m)\n\u001b[1;32m    118\u001b[0m \u001b[38;5;28;01mreturn\u001b[39;00m y\n",
      "File \u001b[0;32m~/anaconda3/lib/python3.11/site-packages/sklearn/utils/_encode.py:41\u001b[0m, in \u001b[0;36m_unique\u001b[0;34m(values, return_inverse, return_counts)\u001b[0m\n\u001b[1;32m     10\u001b[0m \u001b[38;5;250m\u001b[39m\u001b[38;5;124;03m\"\"\"Helper function to find unique values with support for python objects.\u001b[39;00m\n\u001b[1;32m     11\u001b[0m \n\u001b[1;32m     12\u001b[0m \u001b[38;5;124;03mUses pure python method for object dtype, and numpy method for\u001b[39;00m\n\u001b[0;32m   (...)\u001b[0m\n\u001b[1;32m     38\u001b[0m \u001b[38;5;124;03m    array. Only provided if `return_counts` is True.\u001b[39;00m\n\u001b[1;32m     39\u001b[0m \u001b[38;5;124;03m\"\"\"\u001b[39;00m\n\u001b[1;32m     40\u001b[0m \u001b[38;5;28;01mif\u001b[39;00m values\u001b[38;5;241m.\u001b[39mdtype \u001b[38;5;241m==\u001b[39m \u001b[38;5;28mobject\u001b[39m:\n\u001b[0;32m---> 41\u001b[0m     \u001b[38;5;28;01mreturn\u001b[39;00m _unique_python(\n\u001b[1;32m     42\u001b[0m         values, return_inverse\u001b[38;5;241m=\u001b[39mreturn_inverse, return_counts\u001b[38;5;241m=\u001b[39mreturn_counts\n\u001b[1;32m     43\u001b[0m     )\n\u001b[1;32m     44\u001b[0m \u001b[38;5;66;03m# numerical\u001b[39;00m\n\u001b[1;32m     45\u001b[0m \u001b[38;5;28;01mreturn\u001b[39;00m _unique_np(\n\u001b[1;32m     46\u001b[0m     values, return_inverse\u001b[38;5;241m=\u001b[39mreturn_inverse, return_counts\u001b[38;5;241m=\u001b[39mreturn_counts\n\u001b[1;32m     47\u001b[0m )\n",
      "File \u001b[0;32m~/anaconda3/lib/python3.11/site-packages/sklearn/utils/_encode.py:178\u001b[0m, in \u001b[0;36m_unique_python\u001b[0;34m(values, return_inverse, return_counts)\u001b[0m\n\u001b[1;32m    176\u001b[0m \u001b[38;5;28;01mexcept\u001b[39;00m \u001b[38;5;167;01mTypeError\u001b[39;00m:\n\u001b[1;32m    177\u001b[0m     types \u001b[38;5;241m=\u001b[39m \u001b[38;5;28msorted\u001b[39m(t\u001b[38;5;241m.\u001b[39m\u001b[38;5;18m__qualname__\u001b[39m \u001b[38;5;28;01mfor\u001b[39;00m t \u001b[38;5;129;01min\u001b[39;00m \u001b[38;5;28mset\u001b[39m(\u001b[38;5;28mtype\u001b[39m(v) \u001b[38;5;28;01mfor\u001b[39;00m v \u001b[38;5;129;01min\u001b[39;00m values))\n\u001b[0;32m--> 178\u001b[0m     \u001b[38;5;28;01mraise\u001b[39;00m \u001b[38;5;167;01mTypeError\u001b[39;00m(\n\u001b[1;32m    179\u001b[0m         \u001b[38;5;124m\"\u001b[39m\u001b[38;5;124mEncoders require their input to be uniformly \u001b[39m\u001b[38;5;124m\"\u001b[39m\n\u001b[1;32m    180\u001b[0m         \u001b[38;5;124mf\u001b[39m\u001b[38;5;124m\"\u001b[39m\u001b[38;5;124mstrings or numbers. Got \u001b[39m\u001b[38;5;132;01m{\u001b[39;00mtypes\u001b[38;5;132;01m}\u001b[39;00m\u001b[38;5;124m\"\u001b[39m\n\u001b[1;32m    181\u001b[0m     )\n\u001b[1;32m    182\u001b[0m ret \u001b[38;5;241m=\u001b[39m (uniques,)\n\u001b[1;32m    184\u001b[0m \u001b[38;5;28;01mif\u001b[39;00m return_inverse:\n",
      "\u001b[0;31mTypeError\u001b[0m: Encoders require their input to be uniformly strings or numbers. Got ['int', 'str']"
     ]
    }
   ],
   "source": [
    "# Drop unnecessary columns\n",
    "df = df.drop([\"CANCELLED\", \"CANCELLATION_REASON\"], axis=1)\n",
    "\n",
    "# Handle missing values\n",
    "df = df.dropna()\n",
    "\n",
    "# Encode categorical variables\n",
    "label_encoder = LabelEncoder()\n",
    "df[\"AIRLINE\"] = label_encoder.fit_transform(df[\"AIRLINE\"])\n",
    "df[\"ORIGIN_AIRPORT\"] = label_encoder.fit_transform(df[\"ORIGIN_AIRPORT\"])\n",
    "df[\"DESTINATION_AIRPORT\"] = label_encoder.fit_transform(df[\"DESTINATION_AIRPORT\"])"
   ]
  },
  {
   "cell_type": "code",
   "execution_count": 6,
   "id": "c50c8546-b258-4dd0-9148-0d0df768b831",
   "metadata": {},
   "outputs": [
    {
     "name": "stderr",
     "output_type": "stream",
     "text": [
      "/Users/vanessalittle/anaconda3/lib/python3.11/site-packages/sklearn/utils/validation.py:605: FutureWarning: is_sparse is deprecated and will be removed in a future version. Check `isinstance(dtype, pd.SparseDtype)` instead.\n",
      "  if is_sparse(pd_dtype):\n",
      "/Users/vanessalittle/anaconda3/lib/python3.11/site-packages/sklearn/utils/validation.py:614: FutureWarning: is_sparse is deprecated and will be removed in a future version. Check `isinstance(dtype, pd.SparseDtype)` instead.\n",
      "  if is_sparse(pd_dtype) or not is_extension_array_dtype(pd_dtype):\n",
      "/Users/vanessalittle/anaconda3/lib/python3.11/site-packages/sklearn/utils/validation.py:605: FutureWarning: is_sparse is deprecated and will be removed in a future version. Check `isinstance(dtype, pd.SparseDtype)` instead.\n",
      "  if is_sparse(pd_dtype):\n",
      "/Users/vanessalittle/anaconda3/lib/python3.11/site-packages/sklearn/utils/validation.py:614: FutureWarning: is_sparse is deprecated and will be removed in a future version. Check `isinstance(dtype, pd.SparseDtype)` instead.\n",
      "  if is_sparse(pd_dtype) or not is_extension_array_dtype(pd_dtype):\n",
      "/Users/vanessalittle/anaconda3/lib/python3.11/site-packages/sklearn/utils/validation.py:605: FutureWarning: is_sparse is deprecated and will be removed in a future version. Check `isinstance(dtype, pd.SparseDtype)` instead.\n",
      "  if is_sparse(pd_dtype):\n",
      "/Users/vanessalittle/anaconda3/lib/python3.11/site-packages/sklearn/utils/validation.py:614: FutureWarning: is_sparse is deprecated and will be removed in a future version. Check `isinstance(dtype, pd.SparseDtype)` instead.\n",
      "  if is_sparse(pd_dtype) or not is_extension_array_dtype(pd_dtype):\n"
     ]
    }
   ],
   "source": [
    "from sklearn.preprocessing import LabelEncoder\n",
    "\n",
    "# Assuming df is your DataFrame\n",
    "\n",
    "# Convert \"ORIGIN_AIRPORT\" and \"DESTINATION_AIRPORT\" columns to strings\n",
    "df[\"ORIGIN_AIRPORT\"] = df[\"ORIGIN_AIRPORT\"].astype(str)\n",
    "df[\"DESTINATION_AIRPORT\"] = df[\"DESTINATION_AIRPORT\"].astype(str)\n",
    "\n",
    "# Initialize LabelEncoder\n",
    "label_encoder = LabelEncoder()\n",
    "\n",
    "# Apply LabelEncoder to the columns\n",
    "df[\"AIRLINE\"] = label_encoder.fit_transform(df[\"AIRLINE\"])\n",
    "df[\"ORIGIN_AIRPORT\"] = label_encoder.fit_transform(df[\"ORIGIN_AIRPORT\"])\n",
    "df[\"DESTINATION_AIRPORT\"] = label_encoder.fit_transform(df[\"DESTINATION_AIRPORT\"])"
   ]
  },
  {
   "cell_type": "code",
   "execution_count": 7,
   "id": "e607b22d-20bb-4d86-88ab-5aef0b7d2a21",
   "metadata": {},
   "outputs": [],
   "source": [
    "features = [\"MONTH\", \"DAY\", \"DAY_OF_WEEK\", \"AIRLINE\", \"SCHEDULED_DEPARTURE\", \"DEPARTURE_DELAY\", \"DISTANCE\"]\n",
    "X = df[features]\n",
    "y = df[\"DEPARTURE_DELAY\"] > 0  # Binary classification: delayed or not"
   ]
  },
  {
   "cell_type": "code",
   "execution_count": 8,
   "id": "701cad2e-8c78-4185-99e6-1181a5a9b774",
   "metadata": {},
   "outputs": [],
   "source": [
    "X_train, X_test, y_train, y_test = train_test_split(X, y, test_size=0.2, random_state=42)"
   ]
  },
  {
   "cell_type": "code",
   "execution_count": 9,
   "id": "ebe302a6-5b2d-4845-8152-92ba530c026d",
   "metadata": {},
   "outputs": [
    {
     "name": "stderr",
     "output_type": "stream",
     "text": [
      "/Users/vanessalittle/anaconda3/lib/python3.11/site-packages/sklearn/utils/validation.py:767: FutureWarning: is_sparse is deprecated and will be removed in a future version. Check `isinstance(dtype, pd.SparseDtype)` instead.\n",
      "  if not hasattr(array, \"sparse\") and array.dtypes.apply(is_sparse).any():\n",
      "/Users/vanessalittle/anaconda3/lib/python3.11/site-packages/sklearn/utils/validation.py:605: FutureWarning: is_sparse is deprecated and will be removed in a future version. Check `isinstance(dtype, pd.SparseDtype)` instead.\n",
      "  if is_sparse(pd_dtype):\n",
      "/Users/vanessalittle/anaconda3/lib/python3.11/site-packages/sklearn/utils/validation.py:614: FutureWarning: is_sparse is deprecated and will be removed in a future version. Check `isinstance(dtype, pd.SparseDtype)` instead.\n",
      "  if is_sparse(pd_dtype) or not is_extension_array_dtype(pd_dtype):\n"
     ]
    },
    {
     "data": {
      "text/html": [
       "<style>#sk-container-id-1 {color: black;background-color: white;}#sk-container-id-1 pre{padding: 0;}#sk-container-id-1 div.sk-toggleable {background-color: white;}#sk-container-id-1 label.sk-toggleable__label {cursor: pointer;display: block;width: 100%;margin-bottom: 0;padding: 0.3em;box-sizing: border-box;text-align: center;}#sk-container-id-1 label.sk-toggleable__label-arrow:before {content: \"▸\";float: left;margin-right: 0.25em;color: #696969;}#sk-container-id-1 label.sk-toggleable__label-arrow:hover:before {color: black;}#sk-container-id-1 div.sk-estimator:hover label.sk-toggleable__label-arrow:before {color: black;}#sk-container-id-1 div.sk-toggleable__content {max-height: 0;max-width: 0;overflow: hidden;text-align: left;background-color: #f0f8ff;}#sk-container-id-1 div.sk-toggleable__content pre {margin: 0.2em;color: black;border-radius: 0.25em;background-color: #f0f8ff;}#sk-container-id-1 input.sk-toggleable__control:checked~div.sk-toggleable__content {max-height: 200px;max-width: 100%;overflow: auto;}#sk-container-id-1 input.sk-toggleable__control:checked~label.sk-toggleable__label-arrow:before {content: \"▾\";}#sk-container-id-1 div.sk-estimator input.sk-toggleable__control:checked~label.sk-toggleable__label {background-color: #d4ebff;}#sk-container-id-1 div.sk-label input.sk-toggleable__control:checked~label.sk-toggleable__label {background-color: #d4ebff;}#sk-container-id-1 input.sk-hidden--visually {border: 0;clip: rect(1px 1px 1px 1px);clip: rect(1px, 1px, 1px, 1px);height: 1px;margin: -1px;overflow: hidden;padding: 0;position: absolute;width: 1px;}#sk-container-id-1 div.sk-estimator {font-family: monospace;background-color: #f0f8ff;border: 1px dotted black;border-radius: 0.25em;box-sizing: border-box;margin-bottom: 0.5em;}#sk-container-id-1 div.sk-estimator:hover {background-color: #d4ebff;}#sk-container-id-1 div.sk-parallel-item::after {content: \"\";width: 100%;border-bottom: 1px solid gray;flex-grow: 1;}#sk-container-id-1 div.sk-label:hover label.sk-toggleable__label {background-color: #d4ebff;}#sk-container-id-1 div.sk-serial::before {content: \"\";position: absolute;border-left: 1px solid gray;box-sizing: border-box;top: 0;bottom: 0;left: 50%;z-index: 0;}#sk-container-id-1 div.sk-serial {display: flex;flex-direction: column;align-items: center;background-color: white;padding-right: 0.2em;padding-left: 0.2em;position: relative;}#sk-container-id-1 div.sk-item {position: relative;z-index: 1;}#sk-container-id-1 div.sk-parallel {display: flex;align-items: stretch;justify-content: center;background-color: white;position: relative;}#sk-container-id-1 div.sk-item::before, #sk-container-id-1 div.sk-parallel-item::before {content: \"\";position: absolute;border-left: 1px solid gray;box-sizing: border-box;top: 0;bottom: 0;left: 50%;z-index: -1;}#sk-container-id-1 div.sk-parallel-item {display: flex;flex-direction: column;z-index: 1;position: relative;background-color: white;}#sk-container-id-1 div.sk-parallel-item:first-child::after {align-self: flex-end;width: 50%;}#sk-container-id-1 div.sk-parallel-item:last-child::after {align-self: flex-start;width: 50%;}#sk-container-id-1 div.sk-parallel-item:only-child::after {width: 0;}#sk-container-id-1 div.sk-dashed-wrapped {border: 1px dashed gray;margin: 0 0.4em 0.5em 0.4em;box-sizing: border-box;padding-bottom: 0.4em;background-color: white;}#sk-container-id-1 div.sk-label label {font-family: monospace;font-weight: bold;display: inline-block;line-height: 1.2em;}#sk-container-id-1 div.sk-label-container {text-align: center;}#sk-container-id-1 div.sk-container {/* jupyter's `normalize.less` sets `[hidden] { display: none; }` but bootstrap.min.css set `[hidden] { display: none !important; }` so we also need the `!important` here to be able to override the default hidden behavior on the sphinx rendered scikit-learn.org. See: https://github.com/scikit-learn/scikit-learn/issues/21755 */display: inline-block !important;position: relative;}#sk-container-id-1 div.sk-text-repr-fallback {display: none;}</style><div id=\"sk-container-id-1\" class=\"sk-top-container\"><div class=\"sk-text-repr-fallback\"><pre>RandomForestClassifier()</pre><b>In a Jupyter environment, please rerun this cell to show the HTML representation or trust the notebook. <br />On GitHub, the HTML representation is unable to render, please try loading this page with nbviewer.org.</b></div><div class=\"sk-container\" hidden><div class=\"sk-item\"><div class=\"sk-estimator sk-toggleable\"><input class=\"sk-toggleable__control sk-hidden--visually\" id=\"sk-estimator-id-1\" type=\"checkbox\" checked><label for=\"sk-estimator-id-1\" class=\"sk-toggleable__label sk-toggleable__label-arrow\">RandomForestClassifier</label><div class=\"sk-toggleable__content\"><pre>RandomForestClassifier()</pre></div></div></div></div></div>"
      ],
      "text/plain": [
       "RandomForestClassifier()"
      ]
     },
     "execution_count": 9,
     "metadata": {},
     "output_type": "execute_result"
    }
   ],
   "source": [
    "model = RandomForestClassifier()\n",
    "model.fit(X_train, y_train)"
   ]
  },
  {
   "cell_type": "code",
   "execution_count": 10,
   "id": "c7fd6f38-56a8-4bb1-82b8-78c67da200b4",
   "metadata": {},
   "outputs": [
    {
     "name": "stderr",
     "output_type": "stream",
     "text": [
      "/Users/vanessalittle/anaconda3/lib/python3.11/site-packages/sklearn/utils/validation.py:767: FutureWarning: is_sparse is deprecated and will be removed in a future version. Check `isinstance(dtype, pd.SparseDtype)` instead.\n",
      "  if not hasattr(array, \"sparse\") and array.dtypes.apply(is_sparse).any():\n",
      "/Users/vanessalittle/anaconda3/lib/python3.11/site-packages/sklearn/utils/validation.py:605: FutureWarning: is_sparse is deprecated and will be removed in a future version. Check `isinstance(dtype, pd.SparseDtype)` instead.\n",
      "  if is_sparse(pd_dtype):\n",
      "/Users/vanessalittle/anaconda3/lib/python3.11/site-packages/sklearn/utils/validation.py:614: FutureWarning: is_sparse is deprecated and will be removed in a future version. Check `isinstance(dtype, pd.SparseDtype)` instead.\n",
      "  if is_sparse(pd_dtype) or not is_extension_array_dtype(pd_dtype):\n"
     ]
    },
    {
     "name": "stdout",
     "output_type": "stream",
     "text": [
      "Accuracy: 1.0\n",
      "Classification Report:\n",
      "               precision    recall  f1-score   support\n",
      "\n",
      "       False       1.00      1.00      1.00     22460\n",
      "        True       1.00      1.00      1.00    190228\n",
      "\n",
      "    accuracy                           1.00    212688\n",
      "   macro avg       1.00      1.00      1.00    212688\n",
      "weighted avg       1.00      1.00      1.00    212688\n",
      "\n",
      "Confusion Matrix:\n",
      " [[ 22460      0]\n",
      " [     0 190228]]\n"
     ]
    }
   ],
   "source": [
    "y_pred = model.predict(X_test)\n",
    "\n",
    "# Print metrics\n",
    "print(\"Accuracy:\", accuracy_score(y_test, y_pred))\n",
    "print(\"Classification Report:\\n\", classification_report(y_test, y_pred))\n",
    "print(\"Confusion Matrix:\\n\", confusion_matrix(y_test, y_pred))"
   ]
  },
  {
   "cell_type": "code",
   "execution_count": 11,
   "id": "342c8863-dd1e-49bf-ac8c-f05f0a768c2d",
   "metadata": {},
   "outputs": [
    {
     "name": "stdout",
     "output_type": "stream",
     "text": [
      "Prediction: [ True]\n"
     ]
    },
    {
     "name": "stderr",
     "output_type": "stream",
     "text": [
      "/Users/vanessalittle/anaconda3/lib/python3.11/site-packages/sklearn/utils/validation.py:767: FutureWarning: is_sparse is deprecated and will be removed in a future version. Check `isinstance(dtype, pd.SparseDtype)` instead.\n",
      "  if not hasattr(array, \"sparse\") and array.dtypes.apply(is_sparse).any():\n",
      "/Users/vanessalittle/anaconda3/lib/python3.11/site-packages/sklearn/utils/validation.py:605: FutureWarning: is_sparse is deprecated and will be removed in a future version. Check `isinstance(dtype, pd.SparseDtype)` instead.\n",
      "  if is_sparse(pd_dtype):\n",
      "/Users/vanessalittle/anaconda3/lib/python3.11/site-packages/sklearn/utils/validation.py:614: FutureWarning: is_sparse is deprecated and will be removed in a future version. Check `isinstance(dtype, pd.SparseDtype)` instead.\n",
      "  if is_sparse(pd_dtype) or not is_extension_array_dtype(pd_dtype):\n"
     ]
    }
   ],
   "source": [
    "# Example prediction\n",
    "new_data = pd.DataFrame([[1, 15, 3, 5, 1200, 10, 500]], columns=features)\n",
    "prediction = model.predict(new_data)\n",
    "print(\"Prediction:\", prediction)"
   ]
  },
  {
   "cell_type": "code",
   "execution_count": 16,
   "id": "d89ced29-bdd1-465a-9ff9-654ef93f45f9",
   "metadata": {},
   "outputs": [
    {
     "name": "stderr",
     "output_type": "stream",
     "text": [
      "/var/folders/px/kvh7hvv10l91f3w9qbs6h3x00000gn/T/ipykernel_73325/489936738.py:9: DtypeWarning: Columns (7,8) have mixed types. Specify dtype option on import or set low_memory=False.\n",
      "  df = pd.read_csv(\"flights.csv\")\n",
      "/Users/vanessalittle/anaconda3/lib/python3.11/site-packages/sklearn/utils/validation.py:605: FutureWarning: is_sparse is deprecated and will be removed in a future version. Check `isinstance(dtype, pd.SparseDtype)` instead.\n",
      "  if is_sparse(pd_dtype):\n",
      "/Users/vanessalittle/anaconda3/lib/python3.11/site-packages/sklearn/utils/validation.py:614: FutureWarning: is_sparse is deprecated and will be removed in a future version. Check `isinstance(dtype, pd.SparseDtype)` instead.\n",
      "  if is_sparse(pd_dtype) or not is_extension_array_dtype(pd_dtype):\n",
      "/Users/vanessalittle/anaconda3/lib/python3.11/site-packages/sklearn/utils/validation.py:605: FutureWarning: is_sparse is deprecated and will be removed in a future version. Check `isinstance(dtype, pd.SparseDtype)` instead.\n",
      "  if is_sparse(pd_dtype):\n",
      "/Users/vanessalittle/anaconda3/lib/python3.11/site-packages/sklearn/utils/validation.py:614: FutureWarning: is_sparse is deprecated and will be removed in a future version. Check `isinstance(dtype, pd.SparseDtype)` instead.\n",
      "  if is_sparse(pd_dtype) or not is_extension_array_dtype(pd_dtype):\n",
      "/Users/vanessalittle/anaconda3/lib/python3.11/site-packages/sklearn/utils/validation.py:605: FutureWarning: is_sparse is deprecated and will be removed in a future version. Check `isinstance(dtype, pd.SparseDtype)` instead.\n",
      "  if is_sparse(pd_dtype):\n",
      "/Users/vanessalittle/anaconda3/lib/python3.11/site-packages/sklearn/utils/validation.py:614: FutureWarning: is_sparse is deprecated and will be removed in a future version. Check `isinstance(dtype, pd.SparseDtype)` instead.\n",
      "  if is_sparse(pd_dtype) or not is_extension_array_dtype(pd_dtype):\n",
      "/Users/vanessalittle/anaconda3/lib/python3.11/site-packages/sklearn/utils/validation.py:605: FutureWarning: is_sparse is deprecated and will be removed in a future version. Check `isinstance(dtype, pd.SparseDtype)` instead.\n",
      "  if is_sparse(pd_dtype):\n",
      "/Users/vanessalittle/anaconda3/lib/python3.11/site-packages/sklearn/utils/validation.py:614: FutureWarning: is_sparse is deprecated and will be removed in a future version. Check `isinstance(dtype, pd.SparseDtype)` instead.\n",
      "  if is_sparse(pd_dtype) or not is_extension_array_dtype(pd_dtype):\n",
      "/Users/vanessalittle/anaconda3/lib/python3.11/site-packages/sklearn/utils/validation.py:605: FutureWarning: is_sparse is deprecated and will be removed in a future version. Check `isinstance(dtype, pd.SparseDtype)` instead.\n",
      "  if is_sparse(pd_dtype):\n",
      "/Users/vanessalittle/anaconda3/lib/python3.11/site-packages/sklearn/utils/validation.py:614: FutureWarning: is_sparse is deprecated and will be removed in a future version. Check `isinstance(dtype, pd.SparseDtype)` instead.\n",
      "  if is_sparse(pd_dtype) or not is_extension_array_dtype(pd_dtype):\n",
      "/Users/vanessalittle/anaconda3/lib/python3.11/site-packages/sklearn/utils/validation.py:605: FutureWarning: is_sparse is deprecated and will be removed in a future version. Check `isinstance(dtype, pd.SparseDtype)` instead.\n",
      "  if is_sparse(pd_dtype):\n",
      "/Users/vanessalittle/anaconda3/lib/python3.11/site-packages/sklearn/utils/validation.py:614: FutureWarning: is_sparse is deprecated and will be removed in a future version. Check `isinstance(dtype, pd.SparseDtype)` instead.\n",
      "  if is_sparse(pd_dtype) or not is_extension_array_dtype(pd_dtype):\n",
      "/Users/vanessalittle/anaconda3/lib/python3.11/site-packages/sklearn/utils/validation.py:605: FutureWarning: is_sparse is deprecated and will be removed in a future version. Check `isinstance(dtype, pd.SparseDtype)` instead.\n",
      "  if is_sparse(pd_dtype):\n",
      "/Users/vanessalittle/anaconda3/lib/python3.11/site-packages/sklearn/utils/validation.py:614: FutureWarning: is_sparse is deprecated and will be removed in a future version. Check `isinstance(dtype, pd.SparseDtype)` instead.\n",
      "  if is_sparse(pd_dtype) or not is_extension_array_dtype(pd_dtype):\n",
      "/Users/vanessalittle/anaconda3/lib/python3.11/site-packages/sklearn/utils/validation.py:605: FutureWarning: is_sparse is deprecated and will be removed in a future version. Check `isinstance(dtype, pd.SparseDtype)` instead.\n",
      "  if is_sparse(pd_dtype):\n",
      "/Users/vanessalittle/anaconda3/lib/python3.11/site-packages/sklearn/utils/validation.py:614: FutureWarning: is_sparse is deprecated and will be removed in a future version. Check `isinstance(dtype, pd.SparseDtype)` instead.\n",
      "  if is_sparse(pd_dtype) or not is_extension_array_dtype(pd_dtype):\n"
     ]
    },
    {
     "name": "stdout",
     "output_type": "stream",
     "text": [
      "Accuracy: 1.0\n"
     ]
    },
    {
     "name": "stderr",
     "output_type": "stream",
     "text": [
      "/Users/vanessalittle/anaconda3/lib/python3.11/site-packages/sklearn/utils/validation.py:605: FutureWarning: is_sparse is deprecated and will be removed in a future version. Check `isinstance(dtype, pd.SparseDtype)` instead.\n",
      "  if is_sparse(pd_dtype):\n",
      "/Users/vanessalittle/anaconda3/lib/python3.11/site-packages/sklearn/utils/validation.py:614: FutureWarning: is_sparse is deprecated and will be removed in a future version. Check `isinstance(dtype, pd.SparseDtype)` instead.\n",
      "  if is_sparse(pd_dtype) or not is_extension_array_dtype(pd_dtype):\n",
      "/Users/vanessalittle/anaconda3/lib/python3.11/site-packages/sklearn/utils/validation.py:605: FutureWarning: is_sparse is deprecated and will be removed in a future version. Check `isinstance(dtype, pd.SparseDtype)` instead.\n",
      "  if is_sparse(pd_dtype):\n",
      "/Users/vanessalittle/anaconda3/lib/python3.11/site-packages/sklearn/utils/validation.py:614: FutureWarning: is_sparse is deprecated and will be removed in a future version. Check `isinstance(dtype, pd.SparseDtype)` instead.\n",
      "  if is_sparse(pd_dtype) or not is_extension_array_dtype(pd_dtype):\n",
      "/Users/vanessalittle/anaconda3/lib/python3.11/site-packages/sklearn/utils/validation.py:605: FutureWarning: is_sparse is deprecated and will be removed in a future version. Check `isinstance(dtype, pd.SparseDtype)` instead.\n",
      "  if is_sparse(pd_dtype):\n",
      "/Users/vanessalittle/anaconda3/lib/python3.11/site-packages/sklearn/utils/validation.py:614: FutureWarning: is_sparse is deprecated and will be removed in a future version. Check `isinstance(dtype, pd.SparseDtype)` instead.\n",
      "  if is_sparse(pd_dtype) or not is_extension_array_dtype(pd_dtype):\n"
     ]
    },
    {
     "name": "stdout",
     "output_type": "stream",
     "text": [
      "Classification Report:\n",
      "               precision    recall  f1-score   support\n",
      "\n",
      "           0       1.00      1.00      1.00   1145897\n",
      "           1       1.00      1.00      1.00     17919\n",
      "\n",
      "    accuracy                           1.00   1163816\n",
      "   macro avg       1.00      1.00      1.00   1163816\n",
      "weighted avg       1.00      1.00      1.00   1163816\n",
      "\n"
     ]
    },
    {
     "name": "stderr",
     "output_type": "stream",
     "text": [
      "/Users/vanessalittle/anaconda3/lib/python3.11/site-packages/sklearn/utils/validation.py:605: FutureWarning: is_sparse is deprecated and will be removed in a future version. Check `isinstance(dtype, pd.SparseDtype)` instead.\n",
      "  if is_sparse(pd_dtype):\n",
      "/Users/vanessalittle/anaconda3/lib/python3.11/site-packages/sklearn/utils/validation.py:614: FutureWarning: is_sparse is deprecated and will be removed in a future version. Check `isinstance(dtype, pd.SparseDtype)` instead.\n",
      "  if is_sparse(pd_dtype) or not is_extension_array_dtype(pd_dtype):\n",
      "/Users/vanessalittle/anaconda3/lib/python3.11/site-packages/sklearn/utils/validation.py:605: FutureWarning: is_sparse is deprecated and will be removed in a future version. Check `isinstance(dtype, pd.SparseDtype)` instead.\n",
      "  if is_sparse(pd_dtype):\n",
      "/Users/vanessalittle/anaconda3/lib/python3.11/site-packages/sklearn/utils/validation.py:614: FutureWarning: is_sparse is deprecated and will be removed in a future version. Check `isinstance(dtype, pd.SparseDtype)` instead.\n",
      "  if is_sparse(pd_dtype) or not is_extension_array_dtype(pd_dtype):\n",
      "/Users/vanessalittle/anaconda3/lib/python3.11/site-packages/sklearn/utils/validation.py:605: FutureWarning: is_sparse is deprecated and will be removed in a future version. Check `isinstance(dtype, pd.SparseDtype)` instead.\n",
      "  if is_sparse(pd_dtype):\n",
      "/Users/vanessalittle/anaconda3/lib/python3.11/site-packages/sklearn/utils/validation.py:614: FutureWarning: is_sparse is deprecated and will be removed in a future version. Check `isinstance(dtype, pd.SparseDtype)` instead.\n",
      "  if is_sparse(pd_dtype) or not is_extension_array_dtype(pd_dtype):\n"
     ]
    },
    {
     "name": "stdout",
     "output_type": "stream",
     "text": [
      "Confusion Matrix:\n",
      " [[1145897       0]\n",
      " [      0   17919]]\n",
      "Prediction: [0]\n"
     ]
    }
   ],
   "source": [
    "import pandas as pd\n",
    "from sklearn.model_selection import train_test_split\n",
    "from sklearn.preprocessing import LabelEncoder\n",
    "from sklearn.ensemble import RandomForestClassifier\n",
    "from sklearn.metrics import accuracy_score, classification_report, confusion_matrix\n",
    "import xgboost as xgb\n",
    "\n",
    "# Step 1: Load the dataset\n",
    "df = pd.read_csv(\"flights.csv\")\n",
    "\n",
    "# Step 2: Handle missing values if needed\n",
    "# (You can add this step based on your dataset and requirements)\n",
    "\n",
    "# Step 3: Encode categorical columns\n",
    "label_encoder = LabelEncoder()\n",
    "\n",
    "# Convert categorical columns to strings before applying label encoding\n",
    "df[\"AIRLINE\"] = label_encoder.fit_transform(df[\"AIRLINE\"].astype(str))\n",
    "df[\"ORIGIN_AIRPORT\"] = label_encoder.fit_transform(df[\"ORIGIN_AIRPORT\"].astype(str))\n",
    "df[\"DESTINATION_AIRPORT\"] = label_encoder.fit_transform(df[\"DESTINATION_AIRPORT\"].astype(str))\n",
    "\n",
    "# Handle categorical columns differently for XGBoost\n",
    "categorical_cols = [\"TAIL_NUMBER\", \"CANCELLATION_REASON\"]\n",
    "for col in categorical_cols:\n",
    "    df[col] = label_encoder.fit_transform(df[col].astype(str))\n",
    "\n",
    "# Step 4: Split the dataset into features (X) and target variable (y)\n",
    "X = df.drop(\"CANCELLED\", axis=1)\n",
    "y = df[\"CANCELLED\"]\n",
    "\n",
    "# Step 5: Split the dataset into training and testing sets\n",
    "X_train, X_test, y_train, y_test = train_test_split(X, y, test_size=0.2, random_state=42)\n",
    "\n",
    "# Step 6: Choose a classifier (in this case, XGBoost)\n",
    "classifier = xgb.XGBClassifier()\n",
    "\n",
    "# Step 7: Train the classifier\n",
    "classifier.fit(X_train, y_train)\n",
    "\n",
    "# Step 8: Make predictions\n",
    "y_pred = classifier.predict(X_test)\n",
    "\n",
    "# Step 9: Evaluate the classifier\n",
    "accuracy = accuracy_score(y_test, y_pred)\n",
    "print(f\"Accuracy: {accuracy}\")\n",
    "\n",
    "# Classification Report\n",
    "print(\"Classification Report:\\n\", classification_report(y_test, y_pred))\n",
    "\n",
    "# Confusion Matrix\n",
    "conf_matrix = confusion_matrix(y_test, y_pred)\n",
    "print(\"Confusion Matrix:\\n\", conf_matrix)\n",
    "\n",
    "# Prediction Example\n",
    "example_pred = classifier.predict([X_test.iloc[0]])\n",
    "print(\"Prediction:\", example_pred)"
   ]
  }
 ],
 "metadata": {
  "kernelspec": {
   "display_name": "Python 3 (ipykernel)",
   "language": "python",
   "name": "python3"
  },
  "language_info": {
   "codemirror_mode": {
    "name": "ipython",
    "version": 3
   },
   "file_extension": ".py",
   "mimetype": "text/x-python",
   "name": "python",
   "nbconvert_exporter": "python",
   "pygments_lexer": "ipython3",
   "version": "3.11.5"
  }
 },
 "nbformat": 4,
 "nbformat_minor": 5
}
